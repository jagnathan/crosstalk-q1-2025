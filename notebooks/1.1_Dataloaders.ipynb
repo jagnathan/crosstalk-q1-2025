{
 "cells": [
  {
   "cell_type": "code",
   "execution_count": 1,
   "id": "0af1812a-b08f-4e55-92a3-0c9ee7a77782",
   "metadata": {},
   "outputs": [],
   "source": [
    "import os\n",
    "import sys\n",
    "IN_COLAB = os.getenv(\"COLAB_RELEASE_TAG\")\n",
    "if IN_COLAB:\n",
    "    !git clone https://github.com/cottascience/crosstalk-q1-2025\n",
    "    sys.path.append('./crosstalk-q1-2025')\n",
    "else:\n",
    "    sys.path.append('..')"
   ]
  },
  {
   "cell_type": "code",
   "execution_count": 14,
   "id": "d5598577-e530-48f9-b1af-e821340927e7",
   "metadata": {},
   "outputs": [
    {
     "name": "stderr",
     "output_type": "stream",
     "text": [
      "Downloading...\n",
      "From (original): https://drive.google.com/uc?id=19oR_A2UNUvy7pyL3J11oixkmF1m-bZBl\n",
      "From (redirected): https://drive.google.com/uc?id=19oR_A2UNUvy7pyL3J11oixkmF1m-bZBl&confirm=t&uuid=9431f9c5-731d-44b7-a4e8-f77d59d1b5fe\n",
      "To: /home/beangoben/github/crosstalk-q1-2025/notebooks/crosstalk_test.parquet\n",
      "100%|██████████████████████████████████████| 1.52G/1.52G [01:02<00:00, 24.4MB/s]\n",
      "Downloading...\n",
      "From (original): https://drive.google.com/uc?id=11S5p0QgP1X9rOFiIjNSLydLenJwm7hle\n",
      "From (redirected): https://drive.google.com/uc?id=11S5p0QgP1X9rOFiIjNSLydLenJwm7hle&confirm=t&uuid=25223ec8-a940-4f7a-84e7-f56df1e2b2f2\n",
      "To: /home/beangoben/github/crosstalk-q1-2025/notebooks/crosstalk_train.parquet\n",
      "100%|██████████████████████████████████████| 1.97G/1.97G [01:22<00:00, 24.0MB/s]\n"
     ]
    }
   ],
   "source": [
    "# Download the file from google drive\n",
    "import gdown\n",
    "import os\n",
    "\n",
    "\n",
    "file_ids = {'test' : '19oR_A2UNUvy7pyL3J11oixkmF1m-bZBl',\n",
    "            'train':'11S5p0QgP1X9rOFiIjNSLydLenJwm7hle'}\n",
    "\n",
    "for name, file_id in file_ids.items():\n",
    "    filename = f'crosstalk_{name}.parquet'\n",
    "    if not os.path.exists(filename):\n",
    "        gdown.download(id=file_id, output=filename, quiet=False)"
   ]
  },
  {
   "cell_type": "code",
   "execution_count": 15,
   "id": "106f83ef-eeb4-4feb-9cab-f65aa3b89c77",
   "metadata": {},
   "outputs": [
    {
     "name": "stdout",
     "output_type": "stream",
     "text": [
      "['ATOMPAIR', 'MACCS', 'ECFP6', 'ECFP4', 'FCFP4', 'FCFP6', 'TOPTOR', 'RDK', 'AVALON']\n"
     ]
    }
   ],
   "source": [
    "import dataset\n",
    "print(dataset.FINGERPRINT_TYPES)"
   ]
  },
  {
   "cell_type": "code",
   "execution_count": 16,
   "id": "68c3b471-5fd8-46ea-b3e9-fdeba660d8f5",
   "metadata": {},
   "outputs": [],
   "source": [
    "filename = 'crosstalk_train.parquet'"
   ]
  },
  {
   "cell_type": "code",
   "execution_count": 17,
   "id": "e62fac2a-5f05-4939-ac7c-da75ae3248cc",
   "metadata": {},
   "outputs": [
    {
     "data": {
      "text/plain": [
       "(375595, 1)"
      ]
     },
     "execution_count": 17,
     "metadata": {},
     "output_type": "execute_result"
    }
   ],
   "source": [
    "y = dataset.load_y(filename)\n",
    "y.shape"
   ]
  },
  {
   "cell_type": "code",
   "execution_count": 18,
   "id": "e0a174e7-995e-4d39-83ef-05c06ec759b7",
   "metadata": {},
   "outputs": [
    {
     "name": "stdout",
     "output_type": "stream",
     "text": [
      "Total rows: 339204\n",
      "Expected Memory for inputs: 0.21 GBs\n"
     ]
    },
    {
     "data": {
      "application/vnd.jupyter.widget-view+json": {
       "model_id": "529867637272484e8d9fcb98768c7267",
       "version_major": 2,
       "version_minor": 0
      },
      "text/plain": [
       "  0%|          | 0/339 [00:00<?, ?it/s]"
      ]
     },
     "metadata": {},
     "output_type": "display_data"
    },
    {
     "data": {
      "text/plain": [
       "(339204, 167)"
      ]
     },
     "execution_count": 18,
     "metadata": {},
     "output_type": "execute_result"
    }
   ],
   "source": [
    "x_cols = ['MACCS']\n",
    "x = dataset.load_x(test_file, x_cols)\n",
    "x.shape"
   ]
  },
  {
   "cell_type": "code",
   "execution_count": null,
   "id": "efca0c0c-b644-47b2-b44b-b9edb59e5340",
   "metadata": {},
   "outputs": [],
   "source": [
    "# Test"
   ]
  },
  {
   "cell_type": "code",
   "execution_count": null,
   "id": "c4344e6a-dd4c-4b8d-8206-97423991f93b",
   "metadata": {},
   "outputs": [],
   "source": [
    "filename = 'crosstalk_train.parquet'\n"
   ]
  }
 ],
 "metadata": {
  "kernelspec": {
   "display_name": "Python 3 (ipykernel)",
   "language": "python",
   "name": "python3"
  },
  "language_info": {
   "codemirror_mode": {
    "name": "ipython",
    "version": 3
   },
   "file_extension": ".py",
   "mimetype": "text/x-python",
   "name": "python",
   "nbconvert_exporter": "python",
   "pygments_lexer": "ipython3",
   "version": "3.12.9"
  }
 },
 "nbformat": 4,
 "nbformat_minor": 5
}
