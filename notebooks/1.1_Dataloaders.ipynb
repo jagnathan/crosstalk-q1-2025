{
  "cells": [
    {
      "cell_type": "markdown",
      "metadata": {
        "id": "view-in-github",
        "colab_type": "text"
      },
      "source": [
        "<a href=\"https://colab.research.google.com/github/cottascience/crosstalk-q1-2025/blob/collocate-dataloader/notebooks/1.1_Dataloaders.ipynb\" target=\"_parent\"><img src=\"https://colab.research.google.com/assets/colab-badge.svg\" alt=\"Open In Colab\"/></a>"
      ]
    },
    {
      "cell_type": "code",
      "execution_count": 1,
      "id": "0af1812a-b08f-4e55-92a3-0c9ee7a77782",
      "metadata": {
        "id": "0af1812a-b08f-4e55-92a3-0c9ee7a77782",
        "outputId": "585ccacd-5d06-4531-f882-058a12265209",
        "colab": {
          "base_uri": "https://localhost:8080/"
        }
      },
      "outputs": [
        {
          "output_type": "stream",
          "name": "stdout",
          "text": [
            "Cloning into 'crosstalk-q1-2025'...\n",
            "remote: Enumerating objects: 256, done.\u001b[K\n",
            "remote: Counting objects: 100% (101/101), done.\u001b[K\n",
            "remote: Compressing objects: 100% (74/74), done.\u001b[K\n",
            "remote: Total 256 (delta 46), reused 68 (delta 27), pack-reused 155 (from 1)\u001b[K\n",
            "Receiving objects: 100% (256/256), 39.39 MiB | 9.80 MiB/s, done.\n",
            "Resolving deltas: 100% (120/120), done.\n"
          ]
        }
      ],
      "source": [
        "import os\n",
        "import sys\n",
        "IN_COLAB = os.getenv(\"COLAB_RELEASE_TAG\")\n",
        "if IN_COLAB:\n",
        "    !git clone https://github.com/cottascience/crosstalk-q1-2025\n",
        "    sys.path.append('./crosstalk-q1-2025')\n",
        "else:\n",
        "    sys.path.append('..')"
      ]
    },
    {
      "cell_type": "code",
      "execution_count": 2,
      "id": "d5598577-e530-48f9-b1af-e821340927e7",
      "metadata": {
        "id": "d5598577-e530-48f9-b1af-e821340927e7",
        "outputId": "1163a930-4523-4283-eccb-2b38dd37226f",
        "colab": {
          "base_uri": "https://localhost:8080/"
        }
      },
      "outputs": [
        {
          "output_type": "stream",
          "name": "stderr",
          "text": [
            "Downloading...\n",
            "From (original): https://drive.google.com/uc?id=19oR_A2UNUvy7pyL3J11oixkmF1m-bZBl\n",
            "From (redirected): https://drive.google.com/uc?id=19oR_A2UNUvy7pyL3J11oixkmF1m-bZBl&confirm=t&uuid=2b598c25-7e7b-48cb-81e2-180e0c40f6ee\n",
            "To: /content/crosstalk_test.parquet\n",
            "100%|██████████| 1.52G/1.52G [00:23<00:00, 64.2MB/s]\n",
            "Downloading...\n",
            "From (original): https://drive.google.com/uc?id=11S5p0QgP1X9rOFiIjNSLydLenJwm7hle\n",
            "From (redirected): https://drive.google.com/uc?id=11S5p0QgP1X9rOFiIjNSLydLenJwm7hle&confirm=t&uuid=47928065-a7fb-4a4e-8d3a-5f130142670d\n",
            "To: /content/crosstalk_train.parquet\n",
            "100%|██████████| 1.97G/1.97G [00:24<00:00, 80.9MB/s]\n"
          ]
        }
      ],
      "source": [
        "# Download the file from google drive\n",
        "import gdown\n",
        "import os\n",
        "\n",
        "\n",
        "file_ids = {'test' : '19oR_A2UNUvy7pyL3J11oixkmF1m-bZBl',\n",
        "            'train':'11S5p0QgP1X9rOFiIjNSLydLenJwm7hle'}\n",
        "\n",
        "for name, file_id in file_ids.items():\n",
        "    filename = f'crosstalk_{name}.parquet'\n",
        "    if not os.path.exists(filename):\n",
        "        gdown.download(id=file_id, output=filename, quiet=False)"
      ]
    },
    {
      "cell_type": "code",
      "execution_count": 3,
      "id": "106f83ef-eeb4-4feb-9cab-f65aa3b89c77",
      "metadata": {
        "id": "106f83ef-eeb4-4feb-9cab-f65aa3b89c77",
        "outputId": "280b411a-aefe-45dd-b023-0854e4f12652",
        "colab": {
          "base_uri": "https://localhost:8080/"
        }
      },
      "outputs": [
        {
          "output_type": "stream",
          "name": "stdout",
          "text": [
            "['ATOMPAIR', 'MACCS', 'ECFP6', 'ECFP4', 'FCFP4', 'FCFP6', 'TOPTOR', 'RDK', 'AVALON']\n"
          ]
        }
      ],
      "source": [
        "import dataset\n",
        "print(dataset.FINGERPRINT_TYPES)"
      ]
    },
    {
      "cell_type": "code",
      "execution_count": 4,
      "id": "68c3b471-5fd8-46ea-b3e9-fdeba660d8f5",
      "metadata": {
        "id": "68c3b471-5fd8-46ea-b3e9-fdeba660d8f5"
      },
      "outputs": [],
      "source": [
        "filename = 'crosstalk_train.parquet'"
      ]
    },
    {
      "cell_type": "code",
      "execution_count": 5,
      "id": "e62fac2a-5f05-4939-ac7c-da75ae3248cc",
      "metadata": {
        "id": "e62fac2a-5f05-4939-ac7c-da75ae3248cc",
        "outputId": "dce909f9-b95f-4ca4-fb77-539d70f3ba8b",
        "colab": {
          "base_uri": "https://localhost:8080/"
        }
      },
      "outputs": [
        {
          "output_type": "execute_result",
          "data": {
            "text/plain": [
              "(375595, 1)"
            ]
          },
          "metadata": {},
          "execution_count": 5
        }
      ],
      "source": [
        "y = dataset.load_y(filename)\n",
        "y.shape"
      ]
    },
    {
      "cell_type": "code",
      "execution_count": 7,
      "id": "e0a174e7-995e-4d39-83ef-05c06ec759b7",
      "metadata": {
        "id": "e0a174e7-995e-4d39-83ef-05c06ec759b7",
        "outputId": "cbe55268-3ce1-4b87-cd6e-f3828627f8fc",
        "colab": {
          "base_uri": "https://localhost:8080/",
          "height": 103,
          "referenced_widgets": [
            "6beb54c2304a4e2e8bccab48e1e9ab38",
            "dfcb25ceb9d2444b870750a1c5ff1880",
            "0a9710336abd4187b69e5b6aed8ea9a9",
            "5b562c7beb61460082cef25097a40c7d",
            "fc9377c58ad548f0854b9e4568499d37",
            "cb365ac6d8884ce2a4db5b957abe0aab",
            "78fa3ae5ebd547a3ba861415c41d7ed9",
            "929aa899cad7433e9abb0d8bdaae9595",
            "ddb3e2bf6dbd47c6a17693aaf3bf8962",
            "5834fd7c4210472dbe5c5ea83be18394",
            "1fb3e93548b643e087827cd3a3341f77"
          ]
        }
      },
      "outputs": [
        {
          "output_type": "stream",
          "name": "stdout",
          "text": [
            "Total rows: 375595\n",
            "Expected Memory for inputs: 0.23 GBs\n"
          ]
        },
        {
          "output_type": "display_data",
          "data": {
            "text/plain": [
              "  0%|          | 0/375 [00:00<?, ?it/s]"
            ],
            "application/vnd.jupyter.widget-view+json": {
              "version_major": 2,
              "version_minor": 0,
              "model_id": "6beb54c2304a4e2e8bccab48e1e9ab38"
            }
          },
          "metadata": {}
        },
        {
          "output_type": "execute_result",
          "data": {
            "text/plain": [
              "(375595, 167)"
            ]
          },
          "metadata": {},
          "execution_count": 7
        }
      ],
      "source": [
        "x_cols = ['MACCS']\n",
        "x = dataset.load_x(filename, x_cols)\n",
        "x.shape"
      ]
    },
    {
      "cell_type": "code",
      "execution_count": null,
      "id": "efca0c0c-b644-47b2-b44b-b9edb59e5340",
      "metadata": {
        "id": "efca0c0c-b644-47b2-b44b-b9edb59e5340"
      },
      "outputs": [],
      "source": [
        "# Test"
      ]
    },
    {
      "cell_type": "code",
      "execution_count": null,
      "id": "c4344e6a-dd4c-4b8d-8206-97423991f93b",
      "metadata": {
        "id": "c4344e6a-dd4c-4b8d-8206-97423991f93b"
      },
      "outputs": [],
      "source": [
        "filename = 'crosstalk_train.parquet'\n"
      ]
    }
  ],
  "metadata": {
    "kernelspec": {
      "display_name": "Python 3 (ipykernel)",
      "language": "python",
      "name": "python3"
    },
    "language_info": {
      "codemirror_mode": {
        "name": "ipython",
        "version": 3
      },
      "file_extension": ".py",
      "mimetype": "text/x-python",
      "name": "python",
      "nbconvert_exporter": "python",
      "pygments_lexer": "ipython3",
      "version": "3.12.9"
    },
    "colab": {
      "provenance": [],
      "include_colab_link": true
    },
    "widgets": {
      "application/vnd.jupyter.widget-state+json": {
        "6beb54c2304a4e2e8bccab48e1e9ab38": {
          "model_module": "@jupyter-widgets/controls",
          "model_name": "HBoxModel",
          "model_module_version": "1.5.0",
          "state": {
            "_dom_classes": [],
            "_model_module": "@jupyter-widgets/controls",
            "_model_module_version": "1.5.0",
            "_model_name": "HBoxModel",
            "_view_count": null,
            "_view_module": "@jupyter-widgets/controls",
            "_view_module_version": "1.5.0",
            "_view_name": "HBoxView",
            "box_style": "",
            "children": [
              "IPY_MODEL_dfcb25ceb9d2444b870750a1c5ff1880",
              "IPY_MODEL_0a9710336abd4187b69e5b6aed8ea9a9",
              "IPY_MODEL_5b562c7beb61460082cef25097a40c7d"
            ],
            "layout": "IPY_MODEL_fc9377c58ad548f0854b9e4568499d37"
          }
        },
        "dfcb25ceb9d2444b870750a1c5ff1880": {
          "model_module": "@jupyter-widgets/controls",
          "model_name": "HTMLModel",
          "model_module_version": "1.5.0",
          "state": {
            "_dom_classes": [],
            "_model_module": "@jupyter-widgets/controls",
            "_model_module_version": "1.5.0",
            "_model_name": "HTMLModel",
            "_view_count": null,
            "_view_module": "@jupyter-widgets/controls",
            "_view_module_version": "1.5.0",
            "_view_name": "HTMLView",
            "description": "",
            "description_tooltip": null,
            "layout": "IPY_MODEL_cb365ac6d8884ce2a4db5b957abe0aab",
            "placeholder": "​",
            "style": "IPY_MODEL_78fa3ae5ebd547a3ba861415c41d7ed9",
            "value": ""
          }
        },
        "0a9710336abd4187b69e5b6aed8ea9a9": {
          "model_module": "@jupyter-widgets/controls",
          "model_name": "FloatProgressModel",
          "model_module_version": "1.5.0",
          "state": {
            "_dom_classes": [],
            "_model_module": "@jupyter-widgets/controls",
            "_model_module_version": "1.5.0",
            "_model_name": "FloatProgressModel",
            "_view_count": null,
            "_view_module": "@jupyter-widgets/controls",
            "_view_module_version": "1.5.0",
            "_view_name": "ProgressView",
            "bar_style": "success",
            "description": "",
            "description_tooltip": null,
            "layout": "IPY_MODEL_929aa899cad7433e9abb0d8bdaae9595",
            "max": 375,
            "min": 0,
            "orientation": "horizontal",
            "style": "IPY_MODEL_ddb3e2bf6dbd47c6a17693aaf3bf8962",
            "value": 375
          }
        },
        "5b562c7beb61460082cef25097a40c7d": {
          "model_module": "@jupyter-widgets/controls",
          "model_name": "HTMLModel",
          "model_module_version": "1.5.0",
          "state": {
            "_dom_classes": [],
            "_model_module": "@jupyter-widgets/controls",
            "_model_module_version": "1.5.0",
            "_model_name": "HTMLModel",
            "_view_count": null,
            "_view_module": "@jupyter-widgets/controls",
            "_view_module_version": "1.5.0",
            "_view_name": "HTMLView",
            "description": "",
            "description_tooltip": null,
            "layout": "IPY_MODEL_5834fd7c4210472dbe5c5ea83be18394",
            "placeholder": "​",
            "style": "IPY_MODEL_1fb3e93548b643e087827cd3a3341f77",
            "value": " 376/? [00:20&lt;00:00, 22.24it/s]"
          }
        },
        "fc9377c58ad548f0854b9e4568499d37": {
          "model_module": "@jupyter-widgets/base",
          "model_name": "LayoutModel",
          "model_module_version": "1.2.0",
          "state": {
            "_model_module": "@jupyter-widgets/base",
            "_model_module_version": "1.2.0",
            "_model_name": "LayoutModel",
            "_view_count": null,
            "_view_module": "@jupyter-widgets/base",
            "_view_module_version": "1.2.0",
            "_view_name": "LayoutView",
            "align_content": null,
            "align_items": null,
            "align_self": null,
            "border": null,
            "bottom": null,
            "display": null,
            "flex": null,
            "flex_flow": null,
            "grid_area": null,
            "grid_auto_columns": null,
            "grid_auto_flow": null,
            "grid_auto_rows": null,
            "grid_column": null,
            "grid_gap": null,
            "grid_row": null,
            "grid_template_areas": null,
            "grid_template_columns": null,
            "grid_template_rows": null,
            "height": null,
            "justify_content": null,
            "justify_items": null,
            "left": null,
            "margin": null,
            "max_height": null,
            "max_width": null,
            "min_height": null,
            "min_width": null,
            "object_fit": null,
            "object_position": null,
            "order": null,
            "overflow": null,
            "overflow_x": null,
            "overflow_y": null,
            "padding": null,
            "right": null,
            "top": null,
            "visibility": null,
            "width": null
          }
        },
        "cb365ac6d8884ce2a4db5b957abe0aab": {
          "model_module": "@jupyter-widgets/base",
          "model_name": "LayoutModel",
          "model_module_version": "1.2.0",
          "state": {
            "_model_module": "@jupyter-widgets/base",
            "_model_module_version": "1.2.0",
            "_model_name": "LayoutModel",
            "_view_count": null,
            "_view_module": "@jupyter-widgets/base",
            "_view_module_version": "1.2.0",
            "_view_name": "LayoutView",
            "align_content": null,
            "align_items": null,
            "align_self": null,
            "border": null,
            "bottom": null,
            "display": null,
            "flex": null,
            "flex_flow": null,
            "grid_area": null,
            "grid_auto_columns": null,
            "grid_auto_flow": null,
            "grid_auto_rows": null,
            "grid_column": null,
            "grid_gap": null,
            "grid_row": null,
            "grid_template_areas": null,
            "grid_template_columns": null,
            "grid_template_rows": null,
            "height": null,
            "justify_content": null,
            "justify_items": null,
            "left": null,
            "margin": null,
            "max_height": null,
            "max_width": null,
            "min_height": null,
            "min_width": null,
            "object_fit": null,
            "object_position": null,
            "order": null,
            "overflow": null,
            "overflow_x": null,
            "overflow_y": null,
            "padding": null,
            "right": null,
            "top": null,
            "visibility": null,
            "width": null
          }
        },
        "78fa3ae5ebd547a3ba861415c41d7ed9": {
          "model_module": "@jupyter-widgets/controls",
          "model_name": "DescriptionStyleModel",
          "model_module_version": "1.5.0",
          "state": {
            "_model_module": "@jupyter-widgets/controls",
            "_model_module_version": "1.5.0",
            "_model_name": "DescriptionStyleModel",
            "_view_count": null,
            "_view_module": "@jupyter-widgets/base",
            "_view_module_version": "1.2.0",
            "_view_name": "StyleView",
            "description_width": ""
          }
        },
        "929aa899cad7433e9abb0d8bdaae9595": {
          "model_module": "@jupyter-widgets/base",
          "model_name": "LayoutModel",
          "model_module_version": "1.2.0",
          "state": {
            "_model_module": "@jupyter-widgets/base",
            "_model_module_version": "1.2.0",
            "_model_name": "LayoutModel",
            "_view_count": null,
            "_view_module": "@jupyter-widgets/base",
            "_view_module_version": "1.2.0",
            "_view_name": "LayoutView",
            "align_content": null,
            "align_items": null,
            "align_self": null,
            "border": null,
            "bottom": null,
            "display": null,
            "flex": null,
            "flex_flow": null,
            "grid_area": null,
            "grid_auto_columns": null,
            "grid_auto_flow": null,
            "grid_auto_rows": null,
            "grid_column": null,
            "grid_gap": null,
            "grid_row": null,
            "grid_template_areas": null,
            "grid_template_columns": null,
            "grid_template_rows": null,
            "height": null,
            "justify_content": null,
            "justify_items": null,
            "left": null,
            "margin": null,
            "max_height": null,
            "max_width": null,
            "min_height": null,
            "min_width": null,
            "object_fit": null,
            "object_position": null,
            "order": null,
            "overflow": null,
            "overflow_x": null,
            "overflow_y": null,
            "padding": null,
            "right": null,
            "top": null,
            "visibility": null,
            "width": null
          }
        },
        "ddb3e2bf6dbd47c6a17693aaf3bf8962": {
          "model_module": "@jupyter-widgets/controls",
          "model_name": "ProgressStyleModel",
          "model_module_version": "1.5.0",
          "state": {
            "_model_module": "@jupyter-widgets/controls",
            "_model_module_version": "1.5.0",
            "_model_name": "ProgressStyleModel",
            "_view_count": null,
            "_view_module": "@jupyter-widgets/base",
            "_view_module_version": "1.2.0",
            "_view_name": "StyleView",
            "bar_color": null,
            "description_width": ""
          }
        },
        "5834fd7c4210472dbe5c5ea83be18394": {
          "model_module": "@jupyter-widgets/base",
          "model_name": "LayoutModel",
          "model_module_version": "1.2.0",
          "state": {
            "_model_module": "@jupyter-widgets/base",
            "_model_module_version": "1.2.0",
            "_model_name": "LayoutModel",
            "_view_count": null,
            "_view_module": "@jupyter-widgets/base",
            "_view_module_version": "1.2.0",
            "_view_name": "LayoutView",
            "align_content": null,
            "align_items": null,
            "align_self": null,
            "border": null,
            "bottom": null,
            "display": null,
            "flex": null,
            "flex_flow": null,
            "grid_area": null,
            "grid_auto_columns": null,
            "grid_auto_flow": null,
            "grid_auto_rows": null,
            "grid_column": null,
            "grid_gap": null,
            "grid_row": null,
            "grid_template_areas": null,
            "grid_template_columns": null,
            "grid_template_rows": null,
            "height": null,
            "justify_content": null,
            "justify_items": null,
            "left": null,
            "margin": null,
            "max_height": null,
            "max_width": null,
            "min_height": null,
            "min_width": null,
            "object_fit": null,
            "object_position": null,
            "order": null,
            "overflow": null,
            "overflow_x": null,
            "overflow_y": null,
            "padding": null,
            "right": null,
            "top": null,
            "visibility": null,
            "width": null
          }
        },
        "1fb3e93548b643e087827cd3a3341f77": {
          "model_module": "@jupyter-widgets/controls",
          "model_name": "DescriptionStyleModel",
          "model_module_version": "1.5.0",
          "state": {
            "_model_module": "@jupyter-widgets/controls",
            "_model_module_version": "1.5.0",
            "_model_name": "DescriptionStyleModel",
            "_view_count": null,
            "_view_module": "@jupyter-widgets/base",
            "_view_module_version": "1.2.0",
            "_view_name": "StyleView",
            "description_width": ""
          }
        }
      }
    }
  },
  "nbformat": 4,
  "nbformat_minor": 5
}